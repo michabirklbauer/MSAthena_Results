{
 "cells": [
  {
   "cell_type": "code",
   "execution_count": 1,
   "id": "b7d3310f-ae0a-4653-b827-d76361814a30",
   "metadata": {},
   "outputs": [],
   "source": [
    "import pandas as pd\n",
    "\n",
    "CARBAMIDOMETHYL = cm = 57.021464\n",
    "OXIDATION = ox = 15.994915\n",
    "MOD_MAPPING = mm = {\"C\": str(cm), \"M\": str(ox)}"
   ]
  },
  {
   "cell_type": "code",
   "execution_count": 2,
   "id": "e3053fda-032f-419b-a085-b8fda0e1e09d",
   "metadata": {},
   "outputs": [],
   "source": [
    "def get_athena_peptidoform(amanda_row: pd.Series) -> str:\n",
    "    seq = amanda_row[\"Annotated Sequence\"]\n",
    "    mods = amanda_row[\"Modifications\"]\n",
    "    if pd.isna(mods):\n",
    "        return seq + \"[]\"\n",
    "    mods = [str(mod).split(\"(\")[0].strip() for mod in mods.split(\";\")]\n",
    "    return f\"{seq.upper()}[{\"+\".join([str(int(mod[1:]) - 1) + \":\" + mm[mod[0]] for mod in mods])}]\""
   ]
  },
  {
   "cell_type": "code",
   "execution_count": 3,
   "id": "9d53d3d3-cd4f-426c-bddd-0aa02485606f",
   "metadata": {},
   "outputs": [],
   "source": [
    "ground_truth = pd.read_excel(\"amanda/PSMs_rep2_deconv.xlsx\")\n",
    "ground_truth[\"Athena Sequence\"] = ground_truth.apply(lambda row: get_athena_peptidoform(row), axis = 1)\n",
    "athena_candidates = pd.read_csv(\"results/rep2_candidates.csv\", sep = \";\")\n",
    "athena_psms = pd.read_csv(\"results/rep2_psms.csv\", sep = \";\")"
   ]
  },
  {
   "cell_type": "code",
   "execution_count": 4,
   "id": "ccb92b85-89e5-41a1-99b0-f13afb0b3fe9",
   "metadata": {},
   "outputs": [
    {
     "data": {
      "text/plain": [
       "14162"
      ]
     },
     "execution_count": 4,
     "metadata": {},
     "output_type": "execute_result"
    }
   ],
   "source": [
    "len(ground_truth[\"First Scan\"].unique().tolist())"
   ]
  },
  {
   "cell_type": "code",
   "execution_count": 5,
   "id": "dafa9ed6-f1c2-4bf9-9251-69e8e95ebb6f",
   "metadata": {},
   "outputs": [],
   "source": [
    "ground_truth_index = dict()\n",
    "for i, row in ground_truth.iterrows():\n",
    "    scan = int(row[\"First Scan\"])\n",
    "    psm = str(row[\"Athena Sequence\"])\n",
    "    if scan in ground_truth_index:\n",
    "        ground_truth_index[scan].append(psm)\n",
    "    else:\n",
    "        ground_truth_index[scan] = [psm]"
   ]
  },
  {
   "cell_type": "code",
   "execution_count": 6,
   "id": "85338c90-21ec-4f22-9be0-6e47c4463b68",
   "metadata": {},
   "outputs": [
    {
     "data": {
      "text/plain": [
       "14162"
      ]
     },
     "execution_count": 6,
     "metadata": {},
     "output_type": "execute_result"
    }
   ],
   "source": [
    "len(ground_truth_index)"
   ]
  },
  {
   "cell_type": "code",
   "execution_count": 7,
   "id": "aca3e461-3ee0-430a-9621-4eaf2fae740b",
   "metadata": {},
   "outputs": [
    {
     "data": {
      "text/plain": [
       "11602"
      ]
     },
     "execution_count": 7,
     "metadata": {},
     "output_type": "execute_result"
    }
   ],
   "source": [
    "athena_psms[athena_psms[\"Label\"]==\"true-target\"].shape[0]"
   ]
  },
  {
   "cell_type": "code",
   "execution_count": 8,
   "id": "1166a1ef-2d47-4fe1-a51f-b9c3ad16fa7d",
   "metadata": {},
   "outputs": [],
   "source": [
    "nr_psms = 0\n",
    "nr_not_in_index = 0\n",
    "nr_fp = 0\n",
    "nr_tp = 0\n",
    "for i, row in athena_psms[athena_psms[\"Label\"]==\"true-target\"].iterrows():\n",
    "    scan = int(row[\"ScanNumber\"])\n",
    "    psm = str(row[\"Peptidoform\"])\n",
    "    if scan in ground_truth_index:\n",
    "        if psm in ground_truth_index[scan]:\n",
    "            nr_tp += 1\n",
    "        else:\n",
    "            nr_fp += 1\n",
    "    else:\n",
    "        nr_not_in_index += 1\n",
    "    nr_psms += 1"
   ]
  },
  {
   "cell_type": "code",
   "execution_count": 9,
   "id": "e9ed0813-d63b-4eca-9412-3e7badbb3d4e",
   "metadata": {},
   "outputs": [
    {
     "name": "stdout",
     "output_type": "stream",
     "text": [
      "Total checked psms: 11602\n",
      "Total scans not in ground truth: 330\n",
      "Total FP: 141\n",
      "Total TP: 11131\n",
      "FDR strict: 0.04231425747911239\n",
      "FDR relaxed: 0.012667325487377593\n"
     ]
    }
   ],
   "source": [
    "print(f\"Total checked psms: {nr_psms}\")\n",
    "print(f\"Total scans not in ground truth: {nr_not_in_index}\")\n",
    "print(f\"Total FP: {nr_fp}\")\n",
    "print(f\"Total TP: {nr_tp}\")\n",
    "print(f\"FDR strict: {(nr_not_in_index + nr_fp) / nr_tp}\")\n",
    "print(f\"FDR relaxed: {nr_fp / nr_tp}\")"
   ]
  },
  {
   "cell_type": "code",
   "execution_count": null,
   "id": "dcb6e2d7-783f-45b2-b892-686f3b649a19",
   "metadata": {},
   "outputs": [],
   "source": []
  }
 ],
 "metadata": {
  "kernelspec": {
   "display_name": "Python 3 (ipykernel)",
   "language": "python",
   "name": "python3"
  },
  "language_info": {
   "codemirror_mode": {
    "name": "ipython",
    "version": 3
   },
   "file_extension": ".py",
   "mimetype": "text/x-python",
   "name": "python",
   "nbconvert_exporter": "python",
   "pygments_lexer": "ipython3",
   "version": "3.12.2"
  }
 },
 "nbformat": 4,
 "nbformat_minor": 5
}
